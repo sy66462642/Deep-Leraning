{
 "cells": [
  {
   "cell_type": "code",
   "execution_count": null,
   "metadata": {},
   "outputs": [],
   "source": [
    "import tensorflow as tf\n",
    "import numpy as np\n",
    "import time\n",
    "import os\n",
    "import sys\n",
    "import pandas\n",
    "import sklearn\n",
    "import matplotlib as mpl\n",
    "import matplotlib.pyplot as plt\n",
    "%matplotlib inline\n",
    "from tensorflow import keras\n",
    "\n",
    "print(tf.__version__)\n",
    "print(sys.version_info)\n",
    "for module in mpl,np,pandas,sklearn,tf,keras:\n",
    "    print(module.__name__, )"
   ]
  },
  {
   "cell_type": "code",
   "execution_count": null,
   "metadata": {},
   "outputs": [],
   "source": [
    "fashion_mnist=keras.datasets.fashion_mnist\n",
    "(x_all,y_all),(x_test,y_test)=fashion_mnist.load_data()\n",
    "x_val,x_train=x_all[:5000],x_all[5000:]\n",
    "y_val,y_train=y_all[:5000],y_all[5000:]\n",
    "\n",
    "print(x_val.shape,y_val.shape)\n",
    "print(x_train.shape,y_train.shape)\n",
    "print(x_test.shape,y_test.shape)"
   ]
  },
  {
   "cell_type": "code",
   "execution_count": null,
   "metadata": {},
   "outputs": [],
   "source": [
    "\n",
    "\n",
    "model=keras.models.Sequential()\n",
    "model.add(keras.layers.Flatten(input_shape=[28,28]))\n",
    "model.add(keras.layers.Dense(300,activation=\"sigmoid\"))\n",
    "model.add(keras.layers.Dense(150,activation=\"sigmoid\"))\n",
    "model.add(keras.layers.Dense(75,activation=\"sigmoid\"))\n",
    "model.add(keras.layers.Dense(37,activation=\"sigmoid\"))\n",
    "model.add(keras.layers.Dense(18,activation=\"sigmoid\"))\n",
    "model.add(keras.layers.Dense(10,activation=\"softmax\"))\n",
    "model.compile(loss=\"sparse_categorical_crossentropy\",optimizer=\"sgd\",metrics=[\"accuracy\"])\n",
    "\n",
    "history=model.fit(x_train,y_train,epochs=30,validation_data=(x_val,y_val))\n",
    "\n",
    "\n",
    "\n"
   ]
  },
  {
   "cell_type": "code",
   "execution_count": null,
   "metadata": {},
   "outputs": [],
   "source": [
    "from sklearn.preprocessing import StandardScaler\n",
    "scaler=StandardScaler()\n",
    "x_train_scaled=scaler.fit_transform(x_train.astype(np.float32).reshape(-1,1)).reshape(-1,28,28)\n",
    "x_val_scaled=scaler.fit_transform(x_val.astype(np.float32).reshape(-1,1)).reshape(-1,28,28)\n",
    "x_test_scaled=scaler.fit_transform(x_test.astype(np.float32).reshape(-1,1)).reshape(-1,28,28)"
   ]
  },
  {
   "cell_type": "code",
   "execution_count": null,
   "metadata": {},
   "outputs": [],
   "source": [
    "model.evaluate(x_test_scaled,y_test)"
   ]
  },
  {
   "cell_type": "code",
   "execution_count": null,
   "metadata": {},
   "outputs": [],
   "source": [
    "def showSingleImage(img_arr):\n",
    "    plt.imshow(img_arr,cmap=\"binary\")\n",
    "    plt.show()\n",
    "showSingleImage(x_train[0])"
   ]
  },
  {
   "cell_type": "code",
   "execution_count": null,
   "metadata": {},
   "outputs": [],
   "source": [
    "def showImgs(rows,cols,xdata,ydata,classname):\n",
    "    assert len(xdata)==len(ydata)\n",
    "    assert rows*cols<=len(xdata)\n",
    "    plt.figure(figsize=(cols*2.0,rows*2.0))\n",
    "    for row in range(rows):\n",
    "        for col in range(cols):\n",
    "            index=cols*row+col\n",
    "            plt.subplot(rows,cols,index+1)\n",
    "            plt.imshow(xdata[index],cmap=\"binary\",interpolation=\"nearest\")\n",
    "            plt.axis(\"off\")\n",
    "            plt.title(classname[ydata[index]])\n",
    "    plt.show()\n",
    "classname=[\"T-shirt\",\"Trouser\",\"Pullover\",\"Dress\",\"Coat\",\"Sandal\",\"Shirt\",\"Sneaker\",\"Bag\",\"Ankle boot\"]\n",
    "showImgs(6,6,x_train,y_train,classname)"
   ]
  }
 ],
 "metadata": {
  "kernelspec": {
   "display_name": "Python 3",
   "language": "python",
   "name": "python3"
  },
  "language_info": {
   "codemirror_mode": {
    "name": "ipython",
    "version": 3
   },
   "file_extension": ".py",
   "mimetype": "text/x-python",
   "name": "python",
   "nbconvert_exporter": "python",
   "pygments_lexer": "ipython3",
   "version": "3.7.4"
  }
 },
 "nbformat": 4,
 "nbformat_minor": 2
}
