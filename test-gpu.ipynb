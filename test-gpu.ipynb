{
 "cells": [
  {
   "cell_type": "code",
   "execution_count": 4,
   "metadata": {},
   "outputs": [
    {
     "name": "stdout",
     "output_type": "stream",
     "text": [
      "2.0.0\n",
      "sys.version_info(major=3, minor=7, micro=4, releaselevel='final', serial=0)\n",
      "matplotlib\n",
      "numpy\n",
      "pandas\n",
      "sklearn\n",
      "tensorflow\n",
      "tensorflow_core.keras\n"
     ]
    }
   ],
   "source": [
    "import tensorflow as tf\n",
    "import numpy as np\n",
    "import os\n",
    "import sys\n",
    "import pandas\n",
    "import sklearn\n",
    "import matplotlib as mpl\n",
    "import matplotlib.pyplot as plt\n",
    "%matplotlib inline\n",
    "from tensorflow import keras\n",
    "import shutil\n",
    "import random\n",
    "import pathlib\n",
    "from tensorflow.keras.applications import VGG16\n",
    "from tensorflow.keras.preprocessing.image import ImageDataGenerator\n",
    "from tensorflow.keras import models,layers,optimizers\n",
    "#必要的库和库的版本检查#\n",
    "print(tf.__version__)\n",
    "print(sys.version_info)\n",
    "for module in mpl,np,pandas,sklearn,tf,keras:\n",
    "    print(module.__name__, )"
   ]
  },
  {
   "cell_type": "code",
   "execution_count": 6,
   "metadata": {},
   "outputs": [
    {
     "name": "stdout",
     "output_type": "stream",
     "text": [
      "Downloading data from https://www.cs.toronto.edu/~kriz/cifar-10-python.tar.gz\n",
      "170500096/170498071 [==============================] - 1306s 8us/step\n",
      "(5000, 32, 32, 3) (5000, 1)\n",
      "(45000, 32, 32, 3) (45000, 1)\n",
      "(10000, 32, 32, 3) (10000, 1)\n"
     ]
    }
   ],
   "source": [
    "#取数据集#\n",
    "cifar10=keras.datasets.cifar10\n",
    "(x_all,y_all),(x_test,y_test)=cifar10.load_data()\n",
    "x_val,x_train=x_all[:5000],x_all[5000:]\n",
    "y_val,y_train=y_all[:5000],y_all[5000:]\n",
    "\n",
    "print(x_val.shape,y_val.shape)\n",
    "print(x_train.shape,y_train.shape)\n",
    "print(x_test.shape,y_test.shape)"
   ]
  },
  {
   "cell_type": "code",
   "execution_count": 7,
   "metadata": {},
   "outputs": [
    {
     "name": "stdout",
     "output_type": "stream",
     "text": [
      "ok\n"
     ]
    }
   ],
   "source": [
    "from sklearn.preprocessing import StandardScaler\n",
    "scaler=StandardScaler()\n",
    "x_train_scaled=scaler.fit_transform(x_train.astype(np.float32).reshape(-1,1)).reshape(-1,32,32,3)\n",
    "x_val_scaled=scaler.fit_transform(x_val.astype(np.float32).reshape(-1,1)).reshape(-1,32,32,3)\n",
    "x_test_scaled=scaler.fit_transform(x_test.astype(np.float32).reshape(-1,1)).reshape(-1,32,32,3)\n",
    "print(\"ok\")"
   ]
  },
  {
   "cell_type": "code",
   "execution_count": 10,
   "metadata": {},
   "outputs": [
    {
     "name": "stdout",
     "output_type": "stream",
     "text": [
      "Model: \"sequential_2\"\n",
      "_________________________________________________________________\n",
      "Layer (type)                 Output Shape              Param #   \n",
      "=================================================================\n",
      "separable_conv2d_10 (Separab (None, 32, 32, 32)        155       \n",
      "_________________________________________________________________\n",
      "max_pooling2d_6 (MaxPooling2 (None, 16, 16, 32)        0         \n",
      "_________________________________________________________________\n",
      "separable_conv2d_11 (Separab (None, 16, 16, 64)        2400      \n",
      "_________________________________________________________________\n",
      "separable_conv2d_12 (Separab (None, 16, 16, 64)        4736      \n",
      "_________________________________________________________________\n",
      "max_pooling2d_7 (MaxPooling2 (None, 8, 8, 64)          0         \n",
      "_________________________________________________________________\n",
      "separable_conv2d_13 (Separab (None, 8, 8, 64)          4736      \n",
      "_________________________________________________________________\n",
      "separable_conv2d_14 (Separab (None, 8, 8, 64)          4736      \n",
      "_________________________________________________________________\n",
      "max_pooling2d_8 (MaxPooling2 (None, 4, 4, 64)          0         \n",
      "_________________________________________________________________\n",
      "flatten_2 (Flatten)          (None, 1024)              0         \n",
      "_________________________________________________________________\n",
      "dense_3 (Dense)              (None, 1024)              1049600   \n",
      "_________________________________________________________________\n",
      "dense_4 (Dense)              (None, 1000)              1025000   \n",
      "_________________________________________________________________\n",
      "dense_5 (Dense)              (None, 128)               128128    \n",
      "=================================================================\n",
      "Total params: 2,219,491\n",
      "Trainable params: 2,219,491\n",
      "Non-trainable params: 0\n",
      "_________________________________________________________________\n",
      "ok\n"
     ]
    }
   ],
   "source": [
    "model=keras.models.Sequential()\n",
    "flt=64\n",
    "model.add(tf.keras.layers.SeparableConv2D(filters=32,kernel_size=3,padding=\"same\",activation=\"selu\",input_shape=(32,32,3)))\n",
    "model.add(tf.keras.layers.MaxPool2D(pool_size=2))\n",
    "model.add(tf.keras.layers.SeparableConv2D(filters=flt,kernel_size=3,padding=\"same\",activation=\"selu\"))\n",
    "model.add(tf.keras.layers.SeparableConv2D(filters=flt,kernel_size=3,padding=\"same\",activation=\"selu\"))\n",
    "model.add(tf.keras.layers.MaxPool2D(pool_size=2))\n",
    "model.add(tf.keras.layers.SeparableConv2D(filters=flt,kernel_size=3,padding=\"same\",activation=\"selu\"))\n",
    "model.add(tf.keras.layers.SeparableConv2D(filters=flt,kernel_size=3,padding=\"same\",activation=\"selu\"))\n",
    "model.add(tf.keras.layers.MaxPool2D(pool_size=2))\n",
    "model.add(tf.keras.layers.Flatten())\n",
    "model.add(tf.keras.layers.Dense(1024,activation='relu'))\n",
    "model.add(tf.keras.layers.Dense(1000,activation='relu'))\n",
    "model.add(keras.layers.Dense(128,activation=\"softmax\"))\n",
    "\n",
    "model.compile(loss=\"sparse_categorical_crossentropy\",optimizer=\"sgd\",metrics=[\"accuracy\"])\n",
    "model.summary()\n",
    "print(\"ok\")"
   ]
  },
  {
   "cell_type": "code",
   "execution_count": 14,
   "metadata": {},
   "outputs": [
    {
     "ename": "AttributeError",
     "evalue": "module 'tensorflow_core._api.v2.config' has no attribute 'gpu_options'",
     "output_type": "error",
     "traceback": [
      "\u001b[1;31m---------------------------------------------------------------------------\u001b[0m",
      "\u001b[1;31mAttributeError\u001b[0m                            Traceback (most recent call last)",
      "\u001b[1;32m<ipython-input-14-8a339375fc15>\u001b[0m in \u001b[0;36m<module>\u001b[1;34m\u001b[0m\n\u001b[0;32m      1\u001b[0m \u001b[0mconfig\u001b[0m \u001b[1;33m=\u001b[0m \u001b[0mtf\u001b[0m\u001b[1;33m.\u001b[0m\u001b[0mconfig\u001b[0m\u001b[1;33m\u001b[0m\u001b[1;33m\u001b[0m\u001b[0m\n\u001b[1;32m----> 2\u001b[1;33m \u001b[0mconfig\u001b[0m\u001b[1;33m.\u001b[0m\u001b[0mgpu_options\u001b[0m\u001b[1;33m.\u001b[0m\u001b[0mallow_growth\u001b[0m \u001b[1;33m=\u001b[0m \u001b[1;32mTrue\u001b[0m\u001b[1;33m\u001b[0m\u001b[1;33m\u001b[0m\u001b[0m\n\u001b[0m\u001b[0;32m      3\u001b[0m \u001b[0mkeras\u001b[0m\u001b[1;33m.\u001b[0m\u001b[0mbackend\u001b[0m\u001b[1;33m.\u001b[0m\u001b[0mtensorflow_backend\u001b[0m\u001b[1;33m.\u001b[0m\u001b[0mset_session\u001b[0m\u001b[1;33m(\u001b[0m\u001b[0mtf\u001b[0m\u001b[1;33m.\u001b[0m\u001b[0mSession\u001b[0m\u001b[1;33m(\u001b[0m\u001b[0mconfig\u001b[0m\u001b[1;33m=\u001b[0m\u001b[0mconfig\u001b[0m\u001b[1;33m)\u001b[0m\u001b[1;33m)\u001b[0m\u001b[1;33m\u001b[0m\u001b[1;33m\u001b[0m\u001b[0m\n\u001b[0;32m      4\u001b[0m \u001b[0mlogdir\u001b[0m\u001b[1;33m=\u001b[0m\u001b[0mos\u001b[0m\u001b[1;33m.\u001b[0m\u001b[0mpath\u001b[0m\u001b[1;33m.\u001b[0m\u001b[0mjoin\u001b[0m\u001b[1;33m(\u001b[0m\u001b[1;34m\"cifar10\"\u001b[0m\u001b[1;33m)\u001b[0m\u001b[1;33m\u001b[0m\u001b[1;33m\u001b[0m\u001b[0m\n\u001b[0;32m      5\u001b[0m \u001b[1;32mif\u001b[0m \u001b[1;32mnot\u001b[0m \u001b[0mos\u001b[0m\u001b[1;33m.\u001b[0m\u001b[0mpath\u001b[0m\u001b[1;33m.\u001b[0m\u001b[0mexists\u001b[0m\u001b[1;33m(\u001b[0m\u001b[0mlogdir\u001b[0m\u001b[1;33m)\u001b[0m\u001b[1;33m:\u001b[0m\u001b[1;33m\u001b[0m\u001b[1;33m\u001b[0m\u001b[0m\n",
      "\u001b[1;31mAttributeError\u001b[0m: module 'tensorflow_core._api.v2.config' has no attribute 'gpu_options'"
     ]
    }
   ],
   "source": [
    "config = tf.config\n",
    "config.gpu_options.allow_growth = True\n",
    "keras.backend.tensorflow_backend.set_session(tf.Session(config=config))\n",
    "logdir=os.path.join(\"cifar10\")\n",
    "if not os.path.exists(logdir):\n",
    "    os.mkdir(logdir)\n",
    "outputs=os.path.join(logdir,\"cifar10_model.h5\")\n",
    "callbacks=[keras.callbacks.TensorBoard(logdir),\n",
    "           keras.callbacks.ModelCheckpoint(outputs,save_best_only=True),\n",
    "           keras.callbacks.EarlyStopping(patience=5,min_delta=1e-3)]\n",
    "\n",
    "\n",
    "def train(model):\n",
    "    history=model.fit(x_train_scaled,y_train,epochs=14,validation_data=(x_val_scaled,y_val),callbacks=callbacks)\n",
    "    return history\n",
    "histories=train(model)"
   ]
  },
  {
   "cell_type": "code",
   "execution_count": null,
   "metadata": {},
   "outputs": [],
   "source": [
    "def showDnCurve(history):\n",
    "    pandas.DataFrame(history.history).plot(figsize=(10,5))\n",
    "    plt.grid(True)\n",
    "    plt.gca().set_ylim(0,1.5)\n",
    "    plt.show()\n",
    "showDnCurve(histories)"
   ]
  }
 ],
 "metadata": {
  "kernelspec": {
   "display_name": "Python tensorflow",
   "language": "python",
   "name": "tensorflow"
  },
  "language_info": {
   "codemirror_mode": {
    "name": "ipython",
    "version": 3
   },
   "file_extension": ".py",
   "mimetype": "text/x-python",
   "name": "python",
   "nbconvert_exporter": "python",
   "pygments_lexer": "ipython3",
   "version": "3.7.4"
  }
 },
 "nbformat": 4,
 "nbformat_minor": 2
}
